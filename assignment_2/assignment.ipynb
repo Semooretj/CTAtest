{
 "cells": [
  {
   "cell_type": "code",
   "execution_count": 60,
   "metadata": {},
   "outputs": [],
   "source": [
    "# PART 1\n",
    "def f(x:float)->float:\n",
    "    \"\"\" This function evaluates the polynomial x^3-x^2-1 at the given input of x\n",
    "    Parameters: x-------float\n",
    "    Returns: x^3-x^2-1\n",
    "    \"\"\"\n",
    "    return x**3 - x**2 -1\n",
    "\n",
    "def df(x:float)->float:\n",
    "    \"\"\" This function evaluates the polynomial 3x^2-2x at the given input of x\n",
    "    Parameters: x-------float\n",
    "    Returns: 3x^2-2x\n",
    "    \"\"\"\n",
    "    return 3*x**2 - 2*x \n"
   ]
  },
  {
   "cell_type": "code",
   "execution_count": 58,
   "metadata": {},
   "outputs": [],
   "source": [
    "# PART 2\n",
    "def newton(f, df, x0, epsilon=1e-6, max_iter=30):\n",
    "    \"\"\"This function performs the newton iteration of function f with its derivative df \n",
    "    starting with initial value x0\n",
    "    Parameters: f -----------function that evaluates polynomial x^3-x^2-1\n",
    "                df ----------function that evaluates derivative of f 3x^2-2x\n",
    "                x0 ----------initial value (guess) for iteration\n",
    "                epsilon------value set to define when iterations are close and loop stops\n",
    "                max_iter-----set value ofter which iteration loop stops\n",
    "                \n",
    "    Returns: x------The root of the polynomial\n",
    "             n------The number of iterations needed\n",
    "    \"\"\"\n",
    "    # Set initial value of n, sets list to collect values\n",
    "    n = 0\n",
    "    values = [x0]\n",
    "    \n",
    "    # while loop to carry out iteration\n",
    "    while n < max_iter:\n",
    "        # Implementing recurssive expression\n",
    "        x = values[-1] - (f(values[-1])/df(values[-1]))\n",
    "        # Increases counter\n",
    "        n += 1\n",
    "        # Ends loop if value is close to 0 \n",
    "        if abs(f(x)) < epsilon:\n",
    "            print(\"Found root in\",n,\"iterations\")\n",
    "            #print(values)\n",
    "            return x\n",
    "            break\n",
    "        else:\n",
    "            # Adds new value to list\n",
    "            values.append(x)\n",
    "            \n",
    "    # prints if iteration not successful\n",
    "    if n == max_iter:\n",
    "        print(\"Iteration failed\")\n",
    "        return None\n",
    "    \n",
    "\n"
   ]
  },
  {
   "cell_type": "code",
   "execution_count": 59,
   "metadata": {},
   "outputs": [
    {
     "name": "stdout",
     "output_type": "stream",
     "text": [
      "Found root in 5 iterations\n"
     ]
    },
    {
     "data": {
      "text/plain": [
       "1.4655713749070918"
      ]
     },
     "execution_count": 59,
     "metadata": {},
     "output_type": "execute_result"
    }
   ],
   "source": [
    "# PART 3a\n",
    "newton(f, df,x0=1, epsilon=1e-6, max_iter=30)"
   ]
  },
  {
   "cell_type": "code",
   "execution_count": 61,
   "metadata": {},
   "outputs": [
    {
     "name": "stdout",
     "output_type": "stream",
     "text": [
      "Found root in 4 iterations\n"
     ]
    },
    {
     "data": {
      "text/plain": [
       "1.4655713749070918"
      ]
     },
     "execution_count": 61,
     "metadata": {},
     "output_type": "execute_result"
    }
   ],
   "source": [
    "# PART 3a\n",
    "newton(f, df,x0=2 , epsilon=1e-6, max_iter=30)"
   ]
  },
  {
   "cell_type": "code",
   "execution_count": 38,
   "metadata": {},
   "outputs": [
    {
     "name": "stdout",
     "output_type": "stream",
     "text": [
      "Found root in 6 iterations\n"
     ]
    },
    {
     "data": {
      "text/plain": [
       "1.4655712318767877"
      ]
     },
     "execution_count": 38,
     "metadata": {},
     "output_type": "execute_result"
    }
   ],
   "source": [
    "# PART 3b\n",
    "newton(f, df,x0=1 , epsilon=1e-8, max_iter=30)"
   ]
  },
  {
   "cell_type": "code",
   "execution_count": 62,
   "metadata": {},
   "outputs": [
    {
     "name": "stdout",
     "output_type": "stream",
     "text": [
      "Found root in 5 iterations\n"
     ]
    },
    {
     "data": {
      "text/plain": [
       "1.4655712318767877"
      ]
     },
     "execution_count": 62,
     "metadata": {},
     "output_type": "execute_result"
    }
   ],
   "source": [
    "# PART 3b\n",
    "newton(f, df,x0=2 , epsilon=1e-8, max_iter=30)"
   ]
  },
  {
   "cell_type": "markdown",
   "metadata": {},
   "source": [
    "For both x0=1,2 ,it took one more iteration to converge when epsilon was reduced from 1e-6 to 1e-8"
   ]
  },
  {
   "cell_type": "code",
   "execution_count": null,
   "metadata": {},
   "outputs": [],
   "source": []
  }
 ],
 "metadata": {
  "kernelspec": {
   "display_name": "Python 3 (ipykernel)",
   "language": "python",
   "name": "python3"
  },
  "language_info": {
   "codemirror_mode": {
    "name": "ipython",
    "version": 3
   },
   "file_extension": ".py",
   "mimetype": "text/x-python",
   "name": "python",
   "nbconvert_exporter": "python",
   "pygments_lexer": "ipython3",
   "version": "3.10.2"
  }
 },
 "nbformat": 4,
 "nbformat_minor": 1
}
