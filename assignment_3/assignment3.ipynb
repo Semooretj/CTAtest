{
 "cells": [
  {
   "cell_type": "code",
   "execution_count": null,
   "id": "758f0cd0",
   "metadata": {},
   "outputs": [],
   "source": [
    "import numpy as np\n",
    "import matplotlib.pyplot as plt\n",
    "from iterate import iterate\n",
    "\n",
    "a = np.linspace(-2,2,100)[1:-1]\n",
    "b = np.linspace(-2,2,100)[1:-1]\n",
    "\n",
    "list = np.array([])\n",
    "for i in a:\n",
    "    for j in b:\n",
    "        list = np.append(list,complex(i,j))\n",
    "\n",
    "n_s = np.array([])\n",
    "for c in list:\n",
    "    n = iterate(c)\n",
    "    n_s = np.append(n_s,n)\n",
    "\n",
    "x = [c.real for c in list]\n",
    "y = [c.imag for c in list]\n",
    "\n",
    "plt.figure(figsize=(12,8))\n",
    "plt.xlabel(\"Real\")\n",
    "plt.ylabel(\"Imaginary\")\n",
    "plt.scatter(x,y,c=n_s)\n",
    "\n",
    "plt.colorbar()\n"
   ]
  },
  {
   "cell_type": "code",
   "execution_count": null,
   "id": "039d3f97",
   "metadata": {},
   "outputs": [],
   "source": [
    "import numpy as np\n",
    "from scipy.integrate import solve_ivp\n",
    "\n",
    "\n",
    "def df(t,W,X,Y,Z,sigma = 10.,r=28,b=8./3):\n",
    "    \"\"\" function that encodes the system of differential equations\n",
    "    Parameters\n",
    "    t --- independent variable\n",
    "    W --- contains dependent variables X,Y,Z\n",
    "    X,Y,Z --- amplitudes of fourier modes\n",
    "    sigma,r,b --- dimensionless parameters\n",
    "    \n",
    "    Outputs\n",
    "    dX,dY,dZ --- first derivatives of X,Y,Z based on Lorenz' equations\n",
    "    \"\"\"\n",
    "    X,Y,Z = W\n",
    "    dX = -sigma*(X-Y)\n",
    "    dY = (r*X) -Y -(X*Z)\n",
    "    dZ = -(b*Z) + (X*Y)\n",
    "    return [dX,dY,dZ]\n",
    "\n",
    "W0 = [0.,1.,0.]\n",
    "result0 = solve_ivp(df,(0,60),W0, args=(10,28,8./3),t_eval = np.linspace(0,60,712))\n",
    "plt.figure(figsize=(20,8))\n",
    "plt.xlabel(\"Time\")\n",
    "plt.ylabel(\"Y\")\n",
    "plt.plot(result0.t,result0.y[1,:])\n"
   ]
  },
  {
   "cell_type": "code",
   "execution_count": null,
   "id": "9a56f237",
   "metadata": {},
   "outputs": [],
   "source": [
    "result_xy = solve_ivp(df,(0,60),W0, args=(10,28,8./3),t_eval = np.linspace(14,19,1000))\n",
    "plt.figure(figsize=(10,8))\n",
    "plt.xlabel(\"X\")\n",
    "plt.ylabel(\"Y\")\n",
    "plt.plot(result_xy.y[0,:],result_xy.y[1,:])"
   ]
  },
  {
   "cell_type": "code",
   "execution_count": null,
   "id": "b0e64a15",
   "metadata": {},
   "outputs": [],
   "source": [
    "result_yz = solve_ivp(df,(0,60),W0, args=(10,28,8./3),t_eval = np.linspace(14,19,1000))\n",
    "plt.figure(figsize=(10,8))\n",
    "plt.xlabel(\"Y\")\n",
    "plt.ylabel(\"Z\")\n",
    "plt.plot(result_yz.y[1,:],result_yz.y[2,:])"
   ]
  },
  {
   "cell_type": "code",
   "execution_count": null,
   "id": "e517df41",
   "metadata": {},
   "outputs": [],
   "source": [
    "W1 = np.array(W0)+np.array([0,1e-8,0])\n",
    "result1 = solve_ivp(df,(0,60),W1, args=(10,28,8./3), t_eval = np.linspace(0,60,712))\n",
    "diff = abs(result1.y-result0.y)\n",
    "\n",
    "plt.figure(figsize=(20,8))\n",
    "plt.xlabel(\"Time\")\n",
    "plt.ylabel(\"log(difference)\")\n",
    "plt.plot(result1.t,np.log(diff[0,:]),label=\"X\")\n",
    "plt.plot(result1.t,np.log(diff[1,:]),label=\"Y\")\n",
    "plt.plot(result1.t,np.log(diff[2,:]),label=\"Z\")\n",
    "plt.legend(loc = \"upper left\")\n",
    "plt.show()"
   ]
  },
  {
   "cell_type": "code",
   "execution_count": null,
   "id": "fe287a90",
   "metadata": {},
   "outputs": [],
   "source": []
  }
 ],
 "metadata": {
  "kernelspec": {
   "display_name": "Python 3 (ipykernel)",
   "language": "python",
   "name": "python3"
  },
  "language_info": {
   "codemirror_mode": {
    "name": "ipython",
    "version": 3
   },
   "file_extension": ".py",
   "mimetype": "text/x-python",
   "name": "python",
   "nbconvert_exporter": "python",
   "pygments_lexer": "ipython3",
   "version": "3.10.2"
  }
 },
 "nbformat": 4,
 "nbformat_minor": 5
}
